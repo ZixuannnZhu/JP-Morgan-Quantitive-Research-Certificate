{
 "cells": [
  {
   "cell_type": "code",
   "execution_count": 1,
   "id": "e8c5160d",
   "metadata": {},
   "outputs": [],
   "source": [
    "import pandas as pd\n",
    "import numpy as np\n",
    "from scipy.optimize import minimize\n",
    "import matplotlib.pyplot as plt"
   ]
  },
  {
   "cell_type": "code",
   "execution_count": 2,
   "id": "deb8fce4",
   "metadata": {},
   "outputs": [],
   "source": [
    "# load data\n",
    "data = pd.read_csv('Task 3 and 4_Loan_Data.csv')\n",
    "fico_scores = data['fico_score']\n",
    "defaults = data['default']"
   ]
  },
  {
   "cell_type": "code",
   "execution_count": 3,
   "id": "74368f16",
   "metadata": {},
   "outputs": [],
   "source": [
    "# define buckets number \n",
    "num_buckets = 5"
   ]
  },
  {
   "cell_type": "code",
   "execution_count": 12,
   "id": "4527b5a3",
   "metadata": {},
   "outputs": [],
   "source": [
    "# define log likelihood function\n",
    "def log_likelihood(buckets, data):\n",
    "    total_ll = 0\n",
    "    for i in range(len(buckets) - 1):\n",
    "        bucket_data = data[(data['fico_score'] >= buckets[i]) & (data['fico_score'] < buckets[i + 1])]\n",
    "        n_i = len(bucket_data)\n",
    "        k_i = bucket_data['default'].sum()\n",
    "        \n",
    "        if n_i > 0:\n",
    "            p_i = k_i / n_i\n",
    "            total_ll += (k_i * np.log(p_i) + (n_i - k_i) * np.log(1 - p_i))\n",
    "    \n",
    "    return total_ll"
   ]
  },
  {
   "cell_type": "code",
   "execution_count": 13,
   "id": "0502a337",
   "metadata": {},
   "outputs": [],
   "source": [
    "# initialize boundaries\n",
    "def initial_buckets(num_buckets, min_score=300, max_score=850):\n",
    "    return np.linspace(min_score, max_score, num_buckets + 1)"
   ]
  },
  {
   "cell_type": "code",
   "execution_count": 14,
   "id": "3ebd49df",
   "metadata": {},
   "outputs": [],
   "source": [
    "# optimize\n",
    "def optimize_buckets(initial_buckets, data):\n",
    "    def objective_function(buckets):\n",
    "        return -log_likelihood(buckets, data)\n",
    "    result = minimize(objective_function, initial_buckets, bounds=[(300, 850)] * len(initial_buckets))\n",
    "    return result.x"
   ]
  },
  {
   "cell_type": "code",
   "execution_count": 15,
   "id": "df452d5e",
   "metadata": {},
   "outputs": [
    {
     "name": "stdout",
     "output_type": "stream",
     "text": [
      "Optimal Boundaries: [300.         410.         520.00000752 630.00000501 740.00000251\n",
      " 850.        ]\n"
     ]
    }
   ],
   "source": [
    "# example with 5 buckets\n",
    "num_buckets = 5  \n",
    "initial_buckets = initial_buckets(num_buckets)\n",
    "optimized_buckets = optimize_buckets(initial_buckets, data)\n",
    "print(\"Optimal Boundaries:\", optimized_buckets)"
   ]
  },
  {
   "cell_type": "code",
   "execution_count": 16,
   "id": "3d0177ab",
   "metadata": {},
   "outputs": [
    {
     "name": "stdout",
     "output_type": "stream",
     "text": [
      "Rating Map: {(300.0, 410.0): 5, (410.0, 520.0000075191823): 4, (520.0000075191823, 630.0000050127883): 3, (630.0000050127883, 740.0000025063941): 2, (740.0000025063941, 850.0): 1}\n"
     ]
    }
   ],
   "source": [
    "# rating system\n",
    "def create_rating_map(buckets):\n",
    "    rating_map = {}\n",
    "    for i in range(len(buckets) - 1):\n",
    "        rating_map[(buckets[i], buckets[i + 1])] = num_buckets - i \n",
    "    return rating_map\n",
    "\n",
    "rating_map = create_rating_map(optimized_buckets)\n",
    "print(\"Rating Map:\", rating_map)"
   ]
  },
  {
   "cell_type": "code",
   "execution_count": 17,
   "id": "647c5e72",
   "metadata": {},
   "outputs": [
    {
     "name": "stdout",
     "output_type": "stream",
     "text": [
      "Log-Likelihood value: -4357.732154300903\n"
     ]
    }
   ],
   "source": [
    "# check likelihood\n",
    "ll_value = log_likelihood(optimized_buckets, data)\n",
    "print(\"Log-Likelihood value:\", ll_value)"
   ]
  },
  {
   "cell_type": "code",
   "execution_count": 18,
   "id": "39fb10de",
   "metadata": {},
   "outputs": [
    {
     "data": {
      "image/png": "[encoded data removed]",
      "text/plain": [
       "<Figure size 1000x600 with 1 Axes>"
      ]
     },
     "metadata": {},
     "output_type": "display_data"
    }
   ],
   "source": [
    "# visualize\n",
    "def plot_default_rates(buckets, data):\n",
    "    default_rates = []\n",
    "    bucket_centers = []\n",
    "\n",
    "    for i in range(len(buckets) - 1):\n",
    "        bucket_data = data[(data['fico_score'] >= buckets[i]) & (data['fico_score'] < buckets[i + 1])]\n",
    "        n_i = len(bucket_data)\n",
    "        k_i = bucket_data['default'].sum()\n",
    "        \n",
    "        if n_i > 0:\n",
    "            p_i = k_i / n_i\n",
    "            default_rates.append(p_i)\n",
    "            bucket_centers.append((buckets[i] + buckets[i + 1]) / 2)\n",
    "        else:\n",
    "            default_rates.append(0)\n",
    "            bucket_centers.append((buckets[i] + buckets[i + 1]) / 2)\n",
    "\n",
    "    plt.figure(figsize=(10, 6))\n",
    "    plt.bar(bucket_centers, default_rates, width=np.diff(buckets), align='center', alpha=0.7)\n",
    "    plt.xlabel('FICO Score')\n",
    "    plt.ylabel('Default Rate')\n",
    "    plt.title('Default Rate by FICO Score Buckets')\n",
    "    plt.xticks(buckets)\n",
    "    plt.grid()\n",
    "    plt.show()\n",
    "\n",
    "plot_default_rates(optimized_buckets, data)"
   ]
  },
  {
   "cell_type": "code",
   "execution_count": null,
   "id": "a0810520",
   "metadata": {},
   "outputs": [],
   "source": []
  }
 ],
 "metadata": {
  "kernelspec": {
   "display_name": "Python 3 (ipykernel)",
   "language": "python",
   "name": "python3"
  },
  "language_info": {
   "codemirror_mode": {
    "name": "ipython",
    "version": 3
   },
   "file_extension": ".py",
   "mimetype": "text/x-python",
   "name": "python",
   "nbconvert_exporter": "python",
   "pygments_lexer": "ipython3",
   "version": "3.9.13"
  }
 },
 "nbformat": 4,
 "nbformat_minor": 5
}
